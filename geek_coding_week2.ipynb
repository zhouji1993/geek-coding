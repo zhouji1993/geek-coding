{
 "cells": [
  {
   "cell_type": "markdown",
   "source": [
    "周一"
   ],
   "metadata": {
    "collapsed": false,
    "pycharm": {
     "name": "#%% md\n"
    }
   }
  },
  {
   "cell_type": "code",
   "execution_count": null,
   "outputs": [],
   "source": [
    "# 给定两个数组，编写一个函数来计算它们的交集。\n",
    "\n",
    "class Solution:\n",
    "    def intersect(self, nums1: List[int], nums2: List[int]) -> List[int]:\n",
    "        \"\"\"\n",
    "        利用\n",
    "\n",
    "        :param nums1:\n",
    "        :param nums2:\n",
    "        :return 合并的list:\n",
    "        \"\"\"\n",
    "        nnerdict=collections.Counter(nums1)\n",
    "        innerList=[]\n",
    "        for n in nums2:\n",
    "            if n in innerdict and innerdict[n] > 0 :\n",
    "                innerList.append(n)\n",
    "                innerdict[n] -= 1\n",
    "        return innerList\n",
    "\n"
   ],
   "metadata": {
    "collapsed": false,
    "pycharm": {
     "name": "#%%\n"
    }
   }
  },
  {
   "cell_type": "code",
   "execution_count": null,
   "outputs": [],
   "source": [
    "# 214. 最短回文串\n",
    "# 给定一个字符串 s，你可以通过在字符串前面添加字符将其转换为回文串。找到并返回可以用这种方式转换的最短回文串。\n",
    "# 先从中间再两边，将表平分成两部分，用中值右侧的列表的逆域左侧列表一致则将两者拼接\n",
    "\n",
    "class Solution:\n",
    "    def shortestPalindrome(self, s: str) -> str:\n",
    "        n = len(s)\n",
    "        mid = n // 2\n",
    "        for l in range(mid+1, -1 ,-1):\n",
    "            if n-l >= l:\n",
    "                leftpart = s[:l]\n",
    "                rightpart = s[l:]\n",
    "                rerightpart = rightpart[::-1]\n",
    "                if n-2*l > 0 and rerightpart[n-2*l-1:n-l-1] == leftpart:\n",
    "                    return rerightpart[:n-l-1] + rightpart\n",
    "                elif rerightpart[n-2*l:] == leftpart:\n",
    "                    return rerightpart + rightpart\n"
   ],
   "metadata": {
    "collapsed": false,
    "pycharm": {
     "name": "#%%\n"
    }
   }
  },
  {
   "cell_type": "code",
   "execution_count": null,
   "outputs": [],
   "source": [
    "# 841. 钥匙和房间\n",
    "# 有 N 个房间，开始时你位于 0 号房间。每个房间有不同的号码：0，1，2，...，N-1，并且房间里可能有一些钥匙能使你进入下一个房间。\n",
    "#\n",
    "# 在形式上，对于每个房间 i 都有一个钥匙列表 rooms[i]，每个钥匙 rooms[i][j] 由 [0,1，...，N-1] 中的一个整数表示，其中 N = rooms.length。 钥匙 rooms[i][j] = v 可以打开编号为 v 的房间。\n",
    "#\n",
    "# 最初，除 0 号房间外的其余所有房间都被锁住。\n",
    "#\n",
    "# 你可以自由地在房间之间来回走动。\n",
    "#\n",
    "# 如果能进入每个房间返回 true，否则返回 false。\n",
    "#\n",
    "# 示例 1：\n",
    "#\n",
    "# 输入: [[1],[2],[3],[]]\n",
    "# 输出: true\n",
    "# 解释:\n",
    "# 我们从 0 号房间开始，拿到钥匙 1。\n",
    "# 之后我们去 1 号房间，拿到钥匙 2。\n",
    "# 然后我们去 2 号房间，拿到钥匙 3。\n",
    "# 最后我们去了 3 号房间。\n",
    "# 由于我们能够进入每个房间，我们返回 true。\n",
    "# 示例 2：\n",
    "#\n",
    "# 输入：[[1,3],[3,0,1],[2],[0]]\n",
    "# 输出：false\n",
    "# 解释：我们不能进入 2 号房间。\n",
    "# 提示：\n",
    "#\n",
    "# 1 <= rooms.length <= 1000\n",
    "# 0 <= rooms[i].length <= 1000\n",
    "# 所有房间中的钥匙数量总计不超过 3000。\n",
    "\n",
    "class Solution:\n",
    "    def canVisitAllRooms(self, rooms: List[List[int]]) -> bool:\n",
    "        visited={0}\n",
    "\n",
    "        def dfs(room_index,visited):\n",
    "            visited.add(room_index)\n",
    "            for key in rooms[room_index]:\n",
    "                if key not in visited:\n",
    "                    dfs(key,visited)\n",
    "\n",
    "        dfs(0,visited)\n",
    "        return len(visited)==len(rooms)\n",
    "\n",
    "\n",
    "\n",
    "\n",
    "\n",
    "\n",
    "\n"
   ],
   "metadata": {
    "collapsed": false,
    "pycharm": {
     "name": "#%%\n"
    }
   }
  },
  {
   "cell_type": "markdown",
   "source": [
    "周二"
   ],
   "metadata": {
    "collapsed": false
   }
  },
  {
   "cell_type": "code",
   "execution_count": null,
   "outputs": [],
   "source": [
    "# 剑指 Offer 59 - I. 滑动窗口的最大值\n",
    "# deque双向表解决\n",
    "class Solution:\n",
    "    def maxSlidingWindow(self, nums: List[int], k: int) -> List[int]:\n",
    "        deque = collections.deque()\n",
    "        res, n = [], len(nums)\n",
    "        for i, j in zip(range(1 - k, n + 1 - k), range(n)):\n",
    "            if i > 0 and deque[0] == nums[i - 1]:\n",
    "                deque.popleft() # 删除 deque 中对应的 nums[i-1]\n",
    "            while deque and deque[-1] < nums[j]:\n",
    "                deque.pop() # 保持 deque 递减\n",
    "            deque.append(nums[j])\n",
    "            if i >= 0:\n",
    "                res.append(deque[0]) # 记录窗口最大值\n",
    "        return res\n",
    "\n",
    "\n"
   ],
   "metadata": {
    "collapsed": false,
    "pycharm": {
     "name": "#%%\n"
    }
   }
  },
  {
   "cell_type": "markdown",
   "source": [
    "# 周三"
   ],
   "metadata": {
    "collapsed": false
   }
  },
  {
   "cell_type": "code",
   "execution_count": null,
   "outputs": [],
   "source": [
    "# 1021. 删除最外层的括号\n",
    "# 有效括号字符串为空 (\"\")、\"(\" + A + \")\" 或 A + B，其中 A 和 B 都是有效的括号字符串，+ 代表字符串的连接。例如，\"\"，\"()\"，\"(())()\" 和 \"(()(()))\" 都是有效的括号字符串。\n",
    "#\n",
    "# 如果有效字符串 S 非空，且不存在将其拆分为 S = A+B 的方法，我们称其为原语（primitive），其中 A 和 B 都是非空有效括号字符串。\n",
    "#\n",
    "# 给出一个非空有效字符串 S，考虑将其进行原语化分解，使得：S = P_1 + P_2 + ... + P_k，其中 P_i 是有效括号字符串原语。\n",
    "#\n",
    "# 对 S 进行原语化分解，删除分解中每个原语字符串的最外层括号，返回 S 。\n",
    "#\n",
    "#\n",
    "#\n",
    "# 示例 1：\n",
    "#\n",
    "# 输入：\"(()())(())\"\n",
    "# 输出：\"()()()\"\n",
    "# 解释：\n",
    "# 输入字符串为 \"(()())(())\"，原语化分解得到 \"(()())\" + \"(())\"，\n",
    "# 删除每个部分中的最外层括号后得到 \"()()\" + \"()\" = \"()()()\"。\n",
    "# 示例 2：\n",
    "#\n",
    "# 输入：\"(()())(())(()(()))\"\n",
    "# 输出：\"()()()()(())\"\n",
    "# 解释：\n",
    "# 输入字符串为 \"(()())(())(()(()))\"，原语化分解得到 \"(()())\" + \"(())\" + \"(()(()))\"，\n",
    "# 删除每个部分中的最外层括号后得到 \"()()\" + \"()\" + \"()(())\" = \"()()()()(())\"。\n",
    "# 示例 3：\n",
    "#\n",
    "# 输入：\"()()\"\n",
    "# 输出：\"\"\n",
    "# 解释：\n",
    "# 输入字符串为 \"()()\"，原语化分解得到 \"()\" + \"()\"，\n",
    "# 删除每个部分中的最外层括号后得到 \"\" + \"\" = \"\"。\n",
    "#\n",
    "#\n",
    "# 提示：\n",
    "#\n",
    "# S.length <= 10000\n",
    "# S[i] 为 \"(\" 或 \")\"\n",
    "# S 是一个有效括号字符串\n",
    "\n",
    "\n",
    "class Solution:\n",
    "    def removeOuterParentheses(self, S: str) -> str:\n",
    "        stack = []\n",
    "        res = ''\n",
    "        for i in S:\n",
    "            if i == '(':\n",
    "                stack.append(i)\n",
    "                if len(stack) > 1:\n",
    "                    res += '('\n",
    "            else:\n",
    "                stack.pop()\n",
    "                if len(stack) != 0:\n",
    "                    res += ')'\n",
    "        return res"
   ],
   "metadata": {
    "collapsed": false,
    "pycharm": {
     "name": "#%%\n"
    }
   }
  },
  {
   "cell_type": "code",
   "source": [
    "# 51. N 皇后\n",
    "\"\"\"\n",
    "简单些下思路首先是后的行动方式为列，行，以及对角线的形式\n",
    "\"\"\"\n",
    "\n",
    "class Solution:\n",
    "    def solveNQueens(self, n: int) -> List[List[str]]:\n",
    "        # 按行枚举\n",
    "        col, diag, reverse_diag = [0] * n, [0] * 2 * n, [0] * 2 * n\n",
    "        ret = []\n",
    "        grid = [['.'] * n for _ in range(n)]\n",
    "\n",
    "        def dfs(u:int):\n",
    "            # 终点返回\n",
    "            if u == n:\n",
    "                ret.append([\"\".join(grid[i]) for i in range(n)])\n",
    "                return\n",
    "            for i in range(n):\n",
    "                if not col[i] and not diag[u + i] and not reverse_diag[n - u + i]:\n",
    "                    grid[u][i] = 'Q'\n",
    "                    col[i], diag[u + i], reverse_diag[n - u + i] = 1, 1, 1\n",
    "                    dfs(u + 1)\n",
    "                    grid[u][i] = '.'\n",
    "                    col[i], diag[u + i], reverse_diag[n - u + i] = 0, 0, 0\n",
    "        dfs(0)\n",
    "        return ret\n",
    "\n",
    "\n",
    "\n",
    "\n",
    "\n",
    "\n",
    "\n",
    "\n",
    "\n"
   ],
   "metadata": {
    "collapsed": false,
    "pycharm": {
     "name": "#%%\n"
    }
   },
   "execution_count": null,
   "outputs": []
  },
  {
   "cell_type": "markdown",
   "source": [
    "# 周四\n"
   ],
   "metadata": {
    "collapsed": false,
    "pycharm": {
     "name": "#%% md\n"
    }
   }
  },
  {
   "cell_type": "code",
   "execution_count": null,
   "outputs": [],
   "source": [
    "# 412. Fizz Buzz\n",
    "\n",
    "\n",
    "\"\"\"\n",
    "解法很多可以双判断。也可以定义一个列表分表对比每个可能\n",
    "\"\"\"\n",
    "class Solution:\n",
    "    def fizzBuzz(self, n: int) -> List[str]:\n",
    "        res = []\n",
    "        num_tuple_list =[(15,'FizzBuzz'),(3,'Fizz'),(5,'Buzz'),(1,'')]\n",
    "        for num in range(1,n+1):\n",
    "            for div,char in num_tuple_list:\n",
    "                if num%div==0:\n",
    "                    res.append(str(num) if div==1 else char)\n",
    "                    break\n",
    "\n",
    "        return res\n"
   ],
   "metadata": {
    "collapsed": false,
    "pycharm": {
     "name": "#%%\n"
    }
   }
  },
  {
   "cell_type": "markdown",
   "source": [
    "# 周五"
   ],
   "metadata": {
    "collapsed": false
   }
  },
  {
   "cell_type": "code",
   "source": [
    "class Solution:\n",
    "    def addDigits(self, num: int) -> int:\n",
    "        if num == 0:\n",
    "            return 0\n",
    "        if num % 9 == 0:\n",
    "            return 9\n",
    "        else:\n",
    "            return num % 9\n",
    "\n"
   ],
   "metadata": {
    "collapsed": false,
    "pycharm": {
     "name": "#%%\n"
    }
   },
   "execution_count": null,
   "outputs": []
  },
  {
   "cell_type": "markdown",
   "source": [
    "# 周六"
   ],
   "metadata": {
    "collapsed": false
   }
  },
  {
   "cell_type": "code",
   "execution_count": null,
   "outputs": [],
   "source": [
    "# 104. 二叉树的最大深度\n",
    "\"\"\"\n",
    "递归就完事了\n",
    "\"\"\"\n",
    "class Solution:\n",
    "    def maxDepth(self, root: TreeNode) -> int:\n",
    "        if root is None:\n",
    "            return 0\n",
    "        else:\n",
    "            left_height = self.maxDepth(root.left)\n",
    "            right_height = self.maxDepth(root.right)\n",
    "            return max(left_height, right_height) + 1\n",
    "\n"
   ],
   "metadata": {
    "collapsed": false,
    "pycharm": {
     "name": "#%%\n"
    }
   }
  },
  {
   "cell_type": "markdown",
   "source": [
    "# 周日\n",
    "\n",
    "#"
   ],
   "metadata": {
    "collapsed": false,
    "pycharm": {
     "name": "#%% md\n"
    }
   }
  },
  {
   "cell_type": "code",
   "execution_count": null,
   "outputs": [],
   "source": [
    "# 283. 移动零\n",
    "class Solution:\n",
    "    def moveZeroes(self, nums: List[int]) -> None:\n",
    "        \"\"\"\n",
    "        Do not return anything, modify nums in-place instead.\n",
    "        \"\"\"\n",
    "        first = 0\n",
    "        for i in range(len(nums)):\n",
    "            if nums[i] != 0:\n",
    "                nums[first] = nums[i]\n",
    "                first += 1\n",
    "\n",
    "        for i in range(first,len(nums)):\n",
    "            nums[i] = 0\n"
   ],
   "metadata": {
    "collapsed": false,
    "pycharm": {
     "name": "#%%\n"
    }
   }
  },
  {
   "cell_type": "markdown",
   "source": [
    "在抽出时间查看了一些方法后，发现自己的思路在回溯算法的应用上存在弱项但是可以使用别的方式进行实现。\n",
    "向树类的计算感觉上来就直接递归就完事了。真就是万事真就是递归，不过还需总结下，任何问题如果可以使用数学方法实现，则是很快的，学好数学和算法两者都应该好"
   ],
   "metadata": {
    "collapsed": false,
    "pycharm": {
     "name": "#%% md\n"
    }
   }
  }
 ],
 "metadata": {
  "kernelspec": {
   "display_name": "Python 3",
   "language": "python",
   "name": "python3"
  },
  "language_info": {
   "codemirror_mode": {
    "name": "ipython",
    "version": 2
   },
   "file_extension": ".py",
   "mimetype": "text/x-python",
   "name": "python",
   "nbconvert_exporter": "python",
   "pygments_lexer": "ipython2",
   "version": "2.7.6"
  }
 },
 "nbformat": 4,
 "nbformat_minor": 0
}