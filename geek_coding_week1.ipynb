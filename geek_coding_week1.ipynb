{
 "cells": [
  {
   "cell_type": "markdown",
   "source": [
    "周一 - 周二"
   ],
   "metadata": {
    "collapsed": false,
    "pycharm": {
     "name": "#%% md\n"
    }
   }
  },
  {
   "cell_type": "code",
   "execution_count": null,
   "outputs": [],
   "source": [
    "# 11. 盛最多水的容器\n",
    "class Solution:\n",
    "    def maxArea(self, height: List[int]) -> int:\n",
    "        l, r = 0, len(height) - 1\n",
    "        ans = 0\n",
    "        while l < r:\n",
    "            area = min(height[l], height[r]) * (r - l)\n",
    "            ans = max(ans, area)\n",
    "            if height[l] <= height[r]:\n",
    "                l += 1\n",
    "            else:\n",
    "                r -= 1\n",
    "        return ans"
   ],
   "metadata": {
    "collapsed": false,
    "pycharm": {
     "name": "#%%\n"
    }
   }
  },
  {
   "cell_type": "code",
   "execution_count": null,
   "outputs": [],
   "source": [
    "# 70. 爬楼梯\n",
    "class Solution:\n",
    "    def climbStairs(self, n: int) -> int:\n",
    "        if n < 3: return n\n",
    "\n",
    "        res = [0 for i in range(n)]\n",
    "        res[0], res[1] = 1, 2\n",
    "        for j in range(2, n):\n",
    "            res[j] = res[j-1] + res[j-2]\n",
    "\n",
    "        return res[-1]\n",
    "\n",
    "\n",
    "\n"
   ],
   "metadata": {
    "collapsed": false,
    "pycharm": {
     "name": "#%%\n"
    }
   }
  },
  {
   "cell_type": "markdown",
   "source": [
    "# 周三"
   ],
   "metadata": {
    "collapsed": false
   }
  },
  {
   "cell_type": "code",
   "execution_count": null,
   "outputs": [],
   "source": [
    "# 1. 两数之和\n",
    "class Solution(object):\n",
    "    def twoSum(self, nums, target):\n",
    "        \"\"\"\n",
    "        :type nums: List[int]\n",
    "        :type target: int\n",
    "        :rtype: List[int]\n",
    "        \"\"\"\n",
    "        d = {}\n",
    "        for i, num in enumerate(nums):\n",
    "            if target - num in d:\n",
    "                return [d[target - num], i]\n",
    "            d[num] = i\n",
    "\n"
   ],
   "metadata": {
    "collapsed": false,
    "pycharm": {
     "name": "#%%\n"
    }
   }
  },
  {
   "cell_type": "markdown",
   "source": [
    "# 周四"
   ],
   "metadata": {
    "collapsed": false
   }
  },
  {
   "cell_type": "code",
   "execution_count": null,
   "outputs": [],
   "source": [
    "# 332. 重新安排行程\n",
    "from collections import  defaultdict\n",
    "\n",
    "class Solution:\n",
    "    def findItinerary(self, tickets: List[List[str]]) -> List[str]:\n",
    "        d = defaultdict(list)   #邻接表\n",
    "        for f, t in tickets:\n",
    "            d[f] += [t]         #路径存进邻接表\n",
    "        for f in d:\n",
    "            d[f].sort()         #邻接表排序\n",
    "        ans = []\n",
    "        def dfs(f):             #深搜函数\n",
    "            while d[f]:\n",
    "                dfs(d[f].pop(0)) #路径检索\n",
    "            ans.insert(0, f)    #放在最前\n",
    "        dfs('JFK')\n",
    "        return ans\n",
    "\n"
   ],
   "metadata": {
    "collapsed": false,
    "pycharm": {
     "name": "#%%\n"
    }
   }
  },
  {
   "cell_type": "code",
   "source": [
    "# 24. 两两交换链表中的节点\n",
    "# Definition for singly-linked list.\n",
    "class ListNode:\n",
    "    def __init__(self, x):\n",
    "        self.val = x\n",
    "        self.next = None\n",
    "\n",
    "class Solution:\n",
    "    def swapPairs(self, head: ListNode) -> ListNode:\n",
    "        thead = ListNode(-1)\n",
    "        thead.next = head\n",
    "        c = thead\n",
    "        while c.next and c.next.next:\n",
    "            a, b=c.next, c.next.next\n",
    "            c.next, a.next = b, b.next\n",
    "            b.next = a\n",
    "            c = c.next.next\n",
    "        return thead.next\n",
    "\n",
    "from functools import  lru_cache\n",
    "class Solution:\n",
    "    @lru_cache(200)\n",
    "    def swapPairs(self, head: ListNode )-> ListNode:\n",
    "        if not head or not head.next :\n",
    "            return head\n",
    "        firstnode = head\n",
    "        secondnode = head.next\n",
    "\n",
    "        firstnode.next = self.swapPairs(secondnode.next)\n",
    "        secondnode.next = firstnode\n",
    "        return secondnode\n",
    "\n",
    "\n",
    "\n"
   ],
   "metadata": {
    "collapsed": false,
    "pycharm": {
     "name": "#%%\n"
    }
   },
   "execution_count": null,
   "outputs": []
  },
  {
   "cell_type": "markdown",
   "source": [
    "# 周五"
   ],
   "metadata": {
    "collapsed": false
   }
  },
  {
   "cell_type": "code",
   "execution_count": null,
   "outputs": [],
   "source": [
    "# 1528.重新排列字符串\n",
    "\n",
    "class Solution:\n",
    "    def restoreString(self, s: str, indices: List[int]) -> str:\n",
    "        return ''.join([dict(zip(indices, s))[i] for i in range(len(s))])"
   ],
   "metadata": {
    "collapsed": false,
    "pycharm": {
     "name": "#%%\n"
    }
   }
  },
  {
   "cell_type": "code",
   "execution_count": null,
   "outputs": [],
   "source": [
    "# 21、合并两个有序链表\n",
    "# Definition for singly-linked list.\n",
    " class ListNode:\n",
    "     def __init__(self, val=0, next=None):\n",
    "         self.val = val\n",
    "         self.next = next\n",
    "\n",
    "from functools import lru_cache\n",
    "class Solution:\n",
    "    @lru_cache(100)\n",
    "    def mergeTwoLists(self, l1: ListNode, l2: ListNode) -> ListNode:\n",
    "        if l1 and l2:\n",
    "            if l1.val > l2.val: l1, l2 = l2, l1\n",
    "            l1.next = self.mergeTwoLists(l1.next, l2)\n",
    "        return l1 or l2\n",
    "\n",
    "class Solution:\n",
    "    def mergeTwoLists(self, l1: ListNode, l2: ListNode) -> ListNode:\n",
    "        prehead = ListNode(-1)\n",
    "\n",
    "        prev = prehead\n",
    "\n",
    "        while l1 and l2:\n",
    "            if l1.val < l2.val:\n",
    "                prev.next = l1\n",
    "                l1 = l1.next\n",
    "\n",
    "            else:\n",
    "                prev.next = l2\n",
    "                l2 = l2.next\n",
    "\n",
    "            prev = prev.next\n",
    "\n",
    "        prev.next = l1 if l1 is not None else l2\n",
    "\n",
    "        return prehead.next"
   ],
   "metadata": {
    "collapsed": false,
    "pycharm": {
     "name": "#%%\n"
    }
   }
  },
  {
   "cell_type": "code",
   "execution_count": null,
   "outputs": [],
   "source": [
    "# 面试题 01.01. 判定字符是否唯一\n",
    "\n",
    "\n",
    "class Solution:\n",
    "    def isUnique(self, astr: str) -> bool:\n",
    "        return len(list(astr)) == len(set(list(astr)))"
   ],
   "metadata": {
    "collapsed": false,
    "pycharm": {
     "name": "#%%\n"
    }
   }
  },
  {
   "cell_type": "markdown",
   "source": [
    "# 周六\n",
    "\n",
    "\n"
   ],
   "metadata": {
    "collapsed": false,
    "pycharm": {
     "name": "#%% md\n"
    }
   }
  },
  {
   "cell_type": "code",
   "execution_count": null,
   "outputs": [],
   "source": [
    "# 299.猜数字游戏\n",
    "# class Solution:\n",
    "#     def getHint(self, secret: str, guess: str) -> str:\n",
    "#         a = 0\n",
    "#         m = {}\n",
    "#         num_len = len(secret)\n",
    "#         for i in range(num_len):\n",
    "#             if secret[i] == guess[i]:\n",
    "#                 a += 1\n",
    "#             else:\n",
    "#                 m[secret[i]] = m.get(secret[i], 0) + 1\n",
    "#                 m[guess[i]] = m.get(guess[i], 0) - 1\n",
    "\n",
    "#         b = num_len - a - sum(filter(lambda x: x>0, m.values()))\n",
    "#         return '{a}A{b}B'.format(a=a, b=b)\n",
    "import collections\n",
    "\n",
    "class Solution:\n",
    "    def getHint(self, secret: str, guess: str) -> str:\n",
    "        bulls,cows=0,0\n",
    "        for i in range(0,len(secret)):\n",
    "            if secret[i]==guess[i]:\n",
    "                bulls+=1\n",
    "        d1=dict(collections.Counter(list(secret)))\n",
    "        d2=dict(collections.Counter(list(guess)))\n",
    "        for i in d1:\n",
    "            if i in d2:\n",
    "                cows+=min(d1[i],d2[i])\n",
    "        cows=cows-bulls\n",
    "        return str(bulls)+\"A\"+str(cows)+\"B\"\n",
    "\n",
    "\n",
    "\n",
    "\n",
    "class Solution:\n",
    "    def wordPattern(self, p: str, s: str) -> bool:\n",
    "        sl = s.split()\n",
    "        if len(sl) != len(p):\n",
    "            return False\n",
    "        p2s = dict()\n",
    "        s2p = dict()\n",
    "        for i, op in enumerate(p):\n",
    "            os = sl[i]\n",
    "            if os in s2p and s2p[os] != op:\n",
    "                return False\n",
    "            s2p[os] = op\n",
    "            if op in p2s and p2s[op] != os:\n",
    "                return False\n",
    "            p2s[op] = os\n",
    "        return True\n",
    "\n",
    "\n"
   ],
   "metadata": {
    "collapsed": false,
    "pycharm": {
     "name": "#%%\n"
    }
   }
  },
  {
   "cell_type": "code",
   "execution_count": null,
   "outputs": [],
   "source": [
    "# 290.单词规律\n",
    "\n",
    "# class Solution:\n",
    "#     def wordPattern(self, pattern: str, str: str) -> bool:\n",
    "#         str_list = str.split(' ')\n",
    "#         return list(map(pattern.index, pattern))==list(map(str_list.index,str_list))\n",
    "\n",
    "\n",
    "class Solution:\n",
    "    def wordPattern(self, pattern: str, str: str) -> bool:\n",
    "        if len(str.split(\" \")) != len(list(pattern)):\n",
    "            return False\n",
    "        for l in zip(*set(zip(list(pattern), str.split(\" \")))):\n",
    "            if len(l) != len(set(l)):\n",
    "                return False\n",
    "        return True\n",
    "\n",
    "\n"
   ],
   "metadata": {
    "collapsed": false,
    "pycharm": {
     "name": "#%%\n"
    }
   }
  },
  {
   "cell_type": "markdown",
   "source": [
    "# 周日"
   ],
   "metadata": {
    "collapsed": false,
    "pycharm": {
     "name": "#%% md\n"
    }
   }
  },
  {
   "cell_type": "code",
   "source": [
    "# 设计实现双端队列。\n",
    "# 你的实现需要支持以下操作：\n",
    "#\n",
    "#\n",
    "#  MyCircularDeque(k)：构造函数,双端队列的大小为k。\n",
    "#  insertFront()：将一个元素添加到双端队列头部。 如果操作成功返回 true。\n",
    "#  insertLast()：将一个元素添加到双端队列尾部。如果操作成功返回 true。\n",
    "#  deleteFront()：从双端队列头部删除一个元素。 如果操作成功返回 true。\n",
    "#  deleteLast()：从双端队列尾部删除一个元素。如果操作成功返回 true。\n",
    "#  getFront()：从双端队列头部获得一个元素。如果双端队列为空，返回 -1。\n",
    "#  getRear()：获得双端队列的最后一个元素。 如果双端队列为空，返回 -1。\n",
    "#  isEmpty()：检查双端队列是否为空。\n",
    "#  isFull()：检查双端队列是否满了。\n",
    "#\n",
    "#\n",
    "#  示例：\n",
    "#\n",
    "#  MyCircularDeque circularDeque = new MycircularDeque(3); // 设置容量大小为3\n",
    "# circularDeque.insertLast(1);\t\t\t        // 返回 true\n",
    "# circularDeque.insertLast(2);\t\t\t        // 返回 true\n",
    "# circularDeque.insertFront(3);\t\t\t        // 返回 true\n",
    "# circularDeque.insertFront(4);\t\t\t        // 已经满了，返回 false\n",
    "# circularDeque.getRear();  \t\t\t\t// 返回 2\n",
    "# circularDeque.isFull();\t\t\t\t        // 返回 true\n",
    "# circularDeque.deleteLast();\t\t\t        // 返回 true\n",
    "# circularDeque.insertFront(4);\t\t\t        // 返回 true\n",
    "# circularDeque.getFront();\t\t\t\t// 返回 4\n",
    "#  \n",
    "#\n",
    "#\n",
    "#\n",
    "#  提示：\n",
    "#\n",
    "#\n",
    "#  所有值的范围为 [1, 1000]\n",
    "#  操作次数的范围为 [1, 1000]\n",
    "#  请不要使用内置的双端队列库。\n",
    "#\n",
    "#  Related Topics 设计 队列\n"
   ],
   "metadata": {
    "collapsed": false,
    "pycharm": {
     "name": "#%%\n"
    }
   },
   "execution_count": null,
   "outputs": []
  },
  {
   "cell_type": "code",
   "execution_count": null,
   "metadata": {
    "collapsed": true
   },
   "outputs": [],
   "source": [
    "class MyCircularDeque(object):\n",
    "\n",
    "    def __init__(self, k):\n",
    "        # 长度为k时占用k+1的空间，多出来的空间用来区分isEmpty和isFull\n",
    "        # 首尾两个指针相等的时候为empty，尾部+1等于首部的时候为Full\n",
    "        self.q = [0] * (k + 1)\n",
    "        self.len = k + 1\n",
    "        self.rear = 0\n",
    "        self.front = 0\n",
    "\n",
    "    def move_forward(self, pos):\n",
    "        return (pos + 1) % self.len\n",
    "\n",
    "    def move_backward(self, pos):\n",
    "        return (pos - 1) % self.len\n",
    "\n",
    "    def insertFront(self, value):\n",
    "        if not self.isFull():\n",
    "            # 前端插入始终是先插入后移动，self.front始终指向多出来的那个坑\n",
    "            self.q[self.front] = value\n",
    "            self.front = self.move_backward(self.front)\n",
    "            return True\n",
    "        else:\n",
    "            return False\n",
    "\n",
    "    def insertLast(self, value):\n",
    "        if not self.isFull():\n",
    "            # 后端插入始终是先移动后插入，self.rear始终指向后端最后插入的元素\n",
    "            self.rear = self.move_forward(self.rear)\n",
    "            self.q[self.rear] = value\n",
    "            return True\n",
    "        else:\n",
    "            return False\n",
    "\n",
    "    # 删除只需要移动\n",
    "    def deleteFront(self):\n",
    "        if not self.isEmpty():\n",
    "            self.front = self.move_forward(self.front)\n",
    "            return True\n",
    "        else:\n",
    "            return False\n",
    "\n",
    "    def deleteLast(self):\n",
    "        if not self.isEmpty():\n",
    "            self.rear = self.move_backward(self.rear)\n",
    "            return True\n",
    "        else:\n",
    "            return False\n",
    "\n",
    "    def getFront(self):\n",
    "        if not self.isEmpty():\n",
    "            return self.q[self.move_forward(self.front)]\n",
    "        else:\n",
    "            return -1\n",
    "\n",
    "    def getRear(self):\n",
    "        if not self.isEmpty():\n",
    "            return self.q[self.rear]\n",
    "        else:\n",
    "            return -1\n",
    "\n",
    "    def isEmpty(self):\n",
    "        if self.front == self.rear:\n",
    "            return True\n",
    "        else:\n",
    "            return False\n",
    "\n",
    "    def isFull(self):\n",
    "        if self.move_forward(self.rear) == self.front:\n",
    "            return True\n",
    "        else:\n",
    "            return False\n",
    "\n"
   ]
  }
 ],
 "metadata": {
  "kernelspec": {
   "display_name": "Python 3",
   "language": "python",
   "name": "python3"
  },
  "language_info": {
   "codemirror_mode": {
    "name": "ipython",
    "version": 2
   },
   "file_extension": ".py",
   "mimetype": "text/x-python",
   "name": "python",
   "nbconvert_exporter": "python",
   "pygments_lexer": "ipython2",
   "version": "2.7.6"
  }
 },
 "nbformat": 4,
 "nbformat_minor": 0
}